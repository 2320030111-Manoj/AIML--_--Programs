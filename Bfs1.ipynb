{
  "nbformat": 4,
  "nbformat_minor": 0,
  "metadata": {
    "colab": {
      "provenance": [],
      "authorship_tag": "ABX9TyN/kGqwKGNzMVK6DRC4RCFN",
      "include_colab_link": true
    },
    "kernelspec": {
      "name": "python3",
      "display_name": "Python 3"
    },
    "language_info": {
      "name": "python"
    }
  },
  "cells": [
    {
      "cell_type": "markdown",
      "metadata": {
        "id": "view-in-github",
        "colab_type": "text"
      },
      "source": [
        "<a href=\"https://colab.research.google.com/github/2320030111-Manoj/AIML--_--Programs/blob/main/Bfs1.ipynb\" target=\"_parent\"><img src=\"https://colab.research.google.com/assets/colab-badge.svg\" alt=\"Open In Colab\"/></a>"
      ]
    },
    {
      "cell_type": "code",
      "execution_count": 1,
      "metadata": {
        "colab": {
          "base_uri": "https://localhost:8080/"
        },
        "id": "a2zBOPovTIa9",
        "outputId": "d4c6f350-ecb3-4f98-adbd-3eb12b84ae23"
      },
      "outputs": [
        {
          "output_type": "stream",
          "name": "stdout",
          "text": [
            "A B C D E F G H "
          ]
        }
      ],
      "source": [
        "from collections import deque\n",
        "\n",
        "# BFS function\n",
        "def bfs(graph, start):\n",
        "    # Create a queue for BFS\n",
        "    queue = deque([start])\n",
        "\n",
        "    # Set to keep track of visited nodes\n",
        "    visited = set([start])\n",
        "\n",
        "    while queue:\n",
        "        # Dequeue a vertex from the queue\n",
        "        node = queue.popleft()\n",
        "        print(node, end=' ')\n",
        "\n",
        "        # Get all adjacent vertices of the dequeued vertex\n",
        "        for neighbor in graph[node]:\n",
        "            if neighbor not in visited:\n",
        "                queue.append(neighbor)\n",
        "                visited.add(neighbor)\n",
        "\n",
        "# Example graph represented as an adjacency list\n",
        "graph = {\n",
        "    'A': ['B', 'C', 'D'],\n",
        "    'B': ['E', 'F'],\n",
        "    'C': ['G'],\n",
        "    'D': ['H'],\n",
        "    'E': [],\n",
        "    'F': [],\n",
        "    'G': [],\n",
        "    'H': []\n",
        "}\n",
        "\n",
        "# Call BFS starting from node 'A'\n",
        "bfs(graph, 'A')\n"
      ]
    }
  ]
}