{
  "nbformat": 4,
  "nbformat_minor": 0,
  "metadata": {
    "colab": {
      "provenance": [],
      "authorship_tag": "ABX9TyM6Kwh4mTzrZShCobJqv0H5",
      "include_colab_link": true
    },
    "kernelspec": {
      "name": "python3",
      "display_name": "Python 3"
    },
    "language_info": {
      "name": "python"
    }
  },
  "cells": [
    {
      "cell_type": "markdown",
      "metadata": {
        "id": "view-in-github",
        "colab_type": "text"
      },
      "source": [
        "<a href=\"https://colab.research.google.com/github/2320030111-Manoj/AIML--_--Programs/blob/main/Random_movement%2C_A_1.ipynb\" target=\"_parent\"><img src=\"https://colab.research.google.com/assets/colab-badge.svg\" alt=\"Open In Colab\"/></a>"
      ]
    },
    {
      "cell_type": "code",
      "execution_count": 1,
      "metadata": {
        "colab": {
          "base_uri": "https://localhost:8080/",
          "height": 472
        },
        "id": "SuPGRNBKewUp",
        "outputId": "17e33eb5-dcec-47fe-a506-971680235d16"
      },
      "outputs": [
        {
          "output_type": "display_data",
          "data": {
            "text/plain": [
              "<Figure size 640x480 with 1 Axes>"
            ],
            "image/png": "[encoded data removed]"
          },
          "metadata": {}
        }
      ],
      "source": [
        "import matplotlib.pyplot as plt\n",
        "import random\n",
        "\n",
        "# Initialize starting position\n",
        "x, y = 0, 0\n",
        "\n",
        "# Store the coordinates for plotting\n",
        "x_positions = [x]\n",
        "y_positions = [y]\n",
        "\n",
        "# Number of steps for the random walk\n",
        "num_steps = 100\n",
        "\n",
        "# Random movement simulation\n",
        "for _ in range(num_steps):\n",
        "    step_direction = random.choice(['up', 'down', 'left', 'right'])\n",
        "\n",
        "    if step_direction == 'up':\n",
        "        y += 1\n",
        "    elif step_direction == 'down':\n",
        "        y -= 1\n",
        "    elif step_direction == 'left':\n",
        "        x -= 1\n",
        "    elif step_direction == 'right':\n",
        "        x += 1\n",
        "\n",
        "    # Store the new position\n",
        "    x_positions.append(x)\n",
        "    y_positions.append(y)\n",
        "\n",
        "# Plot the random walk\n",
        "plt.plot(x_positions, y_positions, marker='o', color='blue')\n",
        "plt.title('2D Random Walk')\n",
        "plt.xlabel('X')\n",
        "plt.ylabel('Y')\n",
        "plt.grid(True)\n",
        "\n",
        "# Show the plot\n",
        "plt.show()\n"
      ]
    },
    {
      "cell_type": "code",
      "source": [
        "import heapq\n",
        "\n",
        "# A* Algorithm function\n",
        "def astar(grid, start, goal):\n",
        "    # Priority queue to store the nodes to explore (heap)\n",
        "    open_list = []\n",
        "    heapq.heappush(open_list, (0, start))\n",
        "\n",
        "    # Dictionary to store the cost of reaching each node\n",
        "    g_cost = {start: 0}\n",
        "\n",
        "    # Dictionary to store the path taken\n",
        "    came_from = {start: None}\n",
        "\n",
        "    # Define possible movement directions (up, down, left, right)\n",
        "    directions = [(0, 1), (0, -1), (1, 0), (-1, 0)]\n",
        "\n",
        "    # Heuristic function (Manhattan distance)\n",
        "    def heuristic(a, b):\n",
        "        return abs(a[0] - b[0]) + abs(a[1] - b[1])\n",
        "\n",
        "    while open_list:\n",
        "        # Get the node with the lowest f cost\n",
        "        current_f, current = heapq.heappop(open_list)\n",
        "\n",
        "        # If we reached the goal, reconstruct the path\n",
        "        if current == goal:\n",
        "            path = []\n",
        "            while current:\n",
        "                path.append(current)\n",
        "                current = came_from[current]\n",
        "            return path[::-1]  # Return reversed path\n",
        "\n",
        "        # Explore the neighbors\n",
        "        for direction in directions:\n",
        "            neighbor = (current[0] + direction[0], current[1] + direction[1])\n",
        "\n",
        "            # Check if neighbor is within grid bounds\n",
        "            if 0 <= neighbor[0] < len(grid) and 0 <= neighbor[1] < len(grid[0]):\n",
        "                # Ignore blocked cells\n",
        "                if grid[neighbor[0]][neighbor[1]] == 1:\n",
        "                    continue\n",
        "\n",
        "                # Calculate new g cost\n",
        "                new_g_cost = g_cost[current] + 1\n",
        "\n",
        "                # If this path to the neighbor is shorter or neighbor hasn't been visited\n",
        "                if neighbor not in g_cost or new_g_cost < g_cost[neighbor]:\n",
        "                    g_cost[neighbor] = new_g_cost\n",
        "                    f_cost = new_g_cost + heuristic(neighbor, goal)\n",
        "                    heapq.heappush(open_list, (f_cost, neighbor))\n",
        "                    came_from[neighbor] = current\n",
        "\n",
        "    return None  # No path found\n",
        "\n",
        "# Example grid (0 = open space, 1 = blocked)\n",
        "grid = [\n",
        "    [0, 1, 0, 0, 0],\n",
        "    [0, 1, 0, 1, 0],\n",
        "    [0, 0, 0, 1, 0],\n",
        "    [0, 1, 0, 0, 0],\n",
        "    [0, 0, 0, 1, 0]\n",
        "]\n",
        "\n",
        "# Start and goal positions\n",
        "start = (0, 0)\n",
        "goal = (4, 4)\n",
        "\n",
        "# Run A* algorithm\n",
        "path = astar(grid, start, goal)\n",
        "\n",
        "# Print the path found\n",
        "if path:\n",
        "    print(\"Path found:\", path)\n",
        "else:\n",
        "    print(\"No path found\")\n"
      ],
      "metadata": {
        "colab": {
          "base_uri": "https://localhost:8080/"
        },
        "id": "1yWEj7ZIg9lP",
        "outputId": "496b233d-c307-48dd-b92c-d2b82ab573e4"
      },
      "execution_count": 2,
      "outputs": [
        {
          "output_type": "stream",
          "name": "stdout",
          "text": [
            "Path found: [(0, 0), (1, 0), (2, 0), (2, 1), (2, 2), (3, 2), (3, 3), (3, 4), (4, 4)]\n"
          ]
        }
      ]
    }
  ]
}