{
  "nbformat": 4,
  "nbformat_minor": 0,
  "metadata": {
    "colab": {
      "provenance": [],
      "authorship_tag": "ABX9TyPNAD2xrcZf1Atwj3tZh/GG",
      "include_colab_link": true
    },
    "kernelspec": {
      "name": "python3",
      "display_name": "Python 3"
    },
    "language_info": {
      "name": "python"
    }
  },
  "cells": [
    {
      "cell_type": "markdown",
      "metadata": {
        "id": "view-in-github",
        "colab_type": "text"
      },
      "source": [
        "<a href=\"https://colab.research.google.com/github/2320030111-Manoj/AIML--_--Programs/blob/main/Dfs1.ipynb\" target=\"_parent\"><img src=\"https://colab.research.google.com/assets/colab-badge.svg\" alt=\"Open In Colab\"/></a>"
      ]
    },
    {
      "cell_type": "code",
      "execution_count": 1,
      "metadata": {
        "colab": {
          "base_uri": "https://localhost:8080/"
        },
        "id": "GM54zGeeXKpQ",
        "outputId": "d417e6be-2eca-4baa-b7be-494ed952b2f3"
      },
      "outputs": [
        {
          "output_type": "stream",
          "name": "stdout",
          "text": [
            "A B E F C G D H "
          ]
        }
      ],
      "source": [
        "# DFS function (recursive)\n",
        "def dfs_recursive(graph, node, visited=None):\n",
        "    if visited is None:\n",
        "        visited = set()\n",
        "\n",
        "    # Mark the current node as visited\n",
        "    visited.add(node)\n",
        "    print(node, end=' ')\n",
        "\n",
        "    # Recur for all the vertices adjacent to this vertex\n",
        "    for neighbor in graph[node]:\n",
        "        if neighbor not in visited:\n",
        "            dfs_recursive(graph, neighbor, visited)\n",
        "\n",
        "# Example graph represented as an adjacency list\n",
        "graph = {\n",
        "    'A': ['B', 'C', 'D'],\n",
        "    'B': ['E', 'F'],\n",
        "    'C': ['G'],\n",
        "    'D': ['H'],\n",
        "    'E': [],\n",
        "    'F': [],\n",
        "    'G': [],\n",
        "    'H': []\n",
        "}\n",
        "\n",
        "# Call DFS starting from node 'A'\n",
        "dfs_recursive(graph, 'A')\n"
      ]
    }
  ]
}