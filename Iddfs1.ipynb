{
  "nbformat": 4,
  "nbformat_minor": 0,
  "metadata": {
    "colab": {
      "provenance": [],
      "authorship_tag": "ABX9TyOh/eQfKXViH39AHjMkoG9d",
      "include_colab_link": true
    },
    "kernelspec": {
      "name": "python3",
      "display_name": "Python 3"
    },
    "language_info": {
      "name": "python"
    }
  },
  "cells": [
    {
      "cell_type": "markdown",
      "metadata": {
        "id": "view-in-github",
        "colab_type": "text"
      },
      "source": [
        "<a href=\"https://colab.research.google.com/github/2320030111-Manoj/AIML--_--Programs/blob/main/Iddfs1.ipynb\" target=\"_parent\"><img src=\"https://colab.research.google.com/assets/colab-badge.svg\" alt=\"Open In Colab\"/></a>"
      ]
    },
    {
      "cell_type": "code",
      "execution_count": 2,
      "metadata": {
        "colab": {
          "base_uri": "https://localhost:8080/"
        },
        "id": "fQKukJJ7Y1hf",
        "outputId": "ebc92fb4-46c4-461a-cd84-6ff80d38be86"
      },
      "outputs": [
        {
          "output_type": "stream",
          "name": "stdout",
          "text": [
            "\n",
            "Depth level 0: A \n",
            "Depth level 1: A B C D \n",
            "Depth level 2: A B E F C G D H "
          ]
        },
        {
          "output_type": "execute_result",
          "data": {
            "text/plain": [
              "False"
            ]
          },
          "metadata": {},
          "execution_count": 2
        }
      ],
      "source": [
        "# Depth-limited DFS function (recursive)\n",
        "def dls(graph, node, depth, visited):\n",
        "    if depth == 0:\n",
        "        return False\n",
        "    print(node, end=' ')\n",
        "    visited.add(node)\n",
        "\n",
        "    for neighbor in graph[node]:\n",
        "        if neighbor not in visited:\n",
        "            if dls(graph, neighbor, depth - 1, visited):\n",
        "                return True\n",
        "    return False\n",
        "\n",
        "# Iterative Deepening DFS\n",
        "def iddfs(graph, start, max_depth):\n",
        "    for depth in range(max_depth):\n",
        "        visited = set()\n",
        "        print(f\"\\nDepth level {depth}: \", end='')\n",
        "        if dls(graph, start, depth + 1, visited):\n",
        "            return True\n",
        "    return False\n",
        "\n",
        "# Example graph represented as an adjacency list\n",
        "graph = {\n",
        "    'A': ['B', 'C', 'D'],\n",
        "    'B': ['E', 'F'],\n",
        "    'C': ['G'],\n",
        "    'D': ['H'],\n",
        "    'E': [],\n",
        "    'F': [],\n",
        "    'G': [],\n",
        "    'H': []\n",
        "}\n",
        "\n",
        "# Call IDDFS with max_depth = 3\n",
        "iddfs(graph, 'A', 3)\n"
      ]
    }
  ]
}